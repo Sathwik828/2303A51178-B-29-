{
  "nbformat": 4,
  "nbformat_minor": 0,
  "metadata": {
    "colab": {
      "provenance": [],
      "authorship_tag": "ABX9TyMdVyJfA0Z6OUG4nbuGArg+",
      "include_colab_link": true
    },
    "kernelspec": {
      "name": "python3",
      "display_name": "Python 3"
    },
    "language_info": {
      "name": "python"
    }
  },
  "cells": [
    {
      "cell_type": "markdown",
      "metadata": {
        "id": "view-in-github",
        "colab_type": "text"
      },
      "source": [
        "<a href=\"https://colab.research.google.com/github/Sathwik828/2303A51178-B-29-/blob/main/Lab6.ipynb\" target=\"_parent\"><img src=\"https://colab.research.google.com/assets/colab-badge.svg\" alt=\"Open In Colab\"/></a>"
      ]
    },
    {
      "cell_type": "code",
      "execution_count": 1,
      "metadata": {
        "colab": {
          "base_uri": "https://localhost:8080/",
          "height": 0
        },
        "id": "ThROjtEHV-aF",
        "outputId": "26d9bddd-e817-453c-a2da-fc2e86f0753d"
      },
      "outputs": [
        {
          "output_type": "stream",
          "name": "stdout",
          "text": [
            "Before Cleaning (with Outliers):\n",
            "   PatientID  Age\n",
            "0          1   25\n",
            "1          2   30\n",
            "2          3   45\n",
            "3          4  150\n",
            "4          5   -5\n",
            "5          6   60\n",
            "6          7   85\n",
            "7          8  200\n",
            "8          9   40\n",
            "9         10   32\n",
            "\n",
            "Detected Outliers:\n",
            "   PatientID  Age\n",
            "3          4  150\n",
            "4          5   -5\n",
            "7          8  200\n",
            "\n",
            "After Cleaning (Outliers Removed):\n",
            "   PatientID  Age\n",
            "0          1   25\n",
            "1          2   30\n",
            "2          3   45\n",
            "5          6   60\n",
            "6          7   85\n",
            "8          9   40\n",
            "9         10   32\n"
          ]
        }
      ],
      "source": [
        "import pandas as pd\n",
        "\n",
        "# Create Hospital dataset with patient ages (some invalid ages as outliers)\n",
        "hospital_df = pd.DataFrame({\n",
        "    \"PatientID\": range(1, 11),\n",
        "    \"Age\": [25, 30, 45, 150, -5, 60, 85, 200, 40, 32]  # outliers: 150, -5, 200\n",
        "})\n",
        "\n",
        "print(\"Before Cleaning (with Outliers):\")\n",
        "print(hospital_df)\n",
        "\n",
        "# Detect outliers: Age < 0 or Age > 120\n",
        "outliers = hospital_df[(hospital_df['Age'] < 0) | (hospital_df['Age'] > 120)]\n",
        "print(\"\\nDetected Outliers:\")\n",
        "print(outliers)\n",
        "\n",
        "# Remove outliers\n",
        "cleaned_hospital_df = hospital_df[(hospital_df['Age'] >= 0) & (hospital_df['Age'] <= 120)]\n",
        "\n",
        "print(\"\\nAfter Cleaning (Outliers Removed):\")\n",
        "print(cleaned_hospital_df)\n"
      ]
    },
    {
      "cell_type": "code",
      "source": [
        "import pandas as pd\n",
        "from sklearn.preprocessing import MinMaxScaler, StandardScaler\n",
        "\n",
        "# Create Banking dataset with customer incomes\n",
        "bank_df = pd.DataFrame({\n",
        "    \"CustomerID\": range(1, 6),\n",
        "    \"Income\": [25000, 40000, 60000, 80000, 100000]\n",
        "})\n",
        "\n",
        "print(\"Original Dataset:\")\n",
        "print(bank_df)\n",
        "\n",
        "# Min-Max Normalization\n",
        "scaler_minmax = MinMaxScaler()\n",
        "bank_df['Income_MinMax'] = scaler_minmax.fit_transform(bank_df[['Income']])\n",
        "\n",
        "# Standardization (Z-score)\n",
        "scaler_standard = StandardScaler()\n",
        "bank_df['Income_Standardized'] = scaler_standard.fit_transform(bank_df[['Income']])\n",
        "\n",
        "print(\"\\nAfter Scaling:\")\n",
        "print(bank_df)\n"
      ],
      "metadata": {
        "colab": {
          "base_uri": "https://localhost:8080/",
          "height": 0
        },
        "id": "vJhXsUUTWIjZ",
        "outputId": "cf9301f1-1472-4865-ea22-a939d3632b85"
      },
      "execution_count": 2,
      "outputs": [
        {
          "output_type": "stream",
          "name": "stdout",
          "text": [
            "Original Dataset:\n",
            "   CustomerID  Income\n",
            "0           1   25000\n",
            "1           2   40000\n",
            "2           3   60000\n",
            "3           4   80000\n",
            "4           5  100000\n",
            "\n",
            "After Scaling:\n",
            "   CustomerID  Income  Income_MinMax  Income_Standardized\n",
            "0           1   25000       0.000000            -1.337929\n",
            "1           2   40000       0.200000            -0.780459\n",
            "2           3   60000       0.466667            -0.037165\n",
            "3           4   80000       0.733333             0.706129\n",
            "4           5  100000       1.000000             1.449424\n"
          ]
        }
      ]
    }
  ]
}