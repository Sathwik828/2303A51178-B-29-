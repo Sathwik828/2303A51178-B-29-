{
  "nbformat": 4,
  "nbformat_minor": 0,
  "metadata": {
    "colab": {
      "provenance": [],
      "authorship_tag": "ABX9TyMXtMwhhNpcBBU8TNJksJLF",
      "include_colab_link": true
    },
    "kernelspec": {
      "name": "python3",
      "display_name": "Python 3"
    },
    "language_info": {
      "name": "python"
    }
  },
  "cells": [
    {
      "cell_type": "markdown",
      "metadata": {
        "id": "view-in-github",
        "colab_type": "text"
      },
      "source": [
        "<a href=\"https://colab.research.google.com/github/Sathwik828/2303A51178-B-29-/blob/main/lab-5.ipynb\" target=\"_parent\"><img src=\"https://colab.research.google.com/assets/colab-badge.svg\" alt=\"Open In Colab\"/></a>"
      ]
    },
    {
      "cell_type": "code",
      "execution_count": 1,
      "metadata": {
        "colab": {
          "base_uri": "https://localhost:8080/"
        },
        "id": "Tzw-NhvERJ0x",
        "outputId": "dc1c1b7b-10b2-4909-bed3-1a37aee0303d"
      },
      "outputs": [
        {
          "output_type": "stream",
          "name": "stdout",
          "text": [
            "Merged\n",
            "    transactionid  customerid  amount     name         city\n",
            "0            101           1     250    Alice     New York\n",
            "1            102           2     300      Bob  Los Angeles\n",
            "2            103           1     150    Alice     New York\n",
            "3            104           3     400  Charlie     New York\n",
            "4            105           4     200    David      Chicago\n",
            "5            106           2     350      Bob  Los Angeles\n",
            "6            107           5     500      Eva  Los Angeles\n",
            "Customer Spend\n",
            "    customerid     name  amount\n",
            "0           1    Alice     400\n",
            "1           2      Bob     650\n",
            "2           3  Charlie     400\n",
            "3           4    David     200\n",
            "4           5      Eva     500\n",
            "City Spend\n",
            "           city  amount\n",
            "0      Chicago     200\n",
            "1  Los Angeles    1150\n",
            "2     New York     800\n",
            "Top Spender\n",
            " customerid      2\n",
            "name          Bob\n",
            "amount        650\n",
            "Name: 1, dtype: object\n",
            "Patient Visits\n",
            "    patientid     name  visits\n",
            "0          1    Alice       2\n",
            "1          2      Bob       2\n",
            "2          3  Charlie       2\n",
            "3          4    David       1\n",
            "4          5      Eva       1\n",
            "Workload per Doctor\n",
            "       doctor  appointments\n",
            "0  Dr. Brown             2\n",
            "1    Dr. Lee             3\n",
            "2  Dr. Smith             3\n",
            "Top Patient\n",
            " patientid        1\n",
            "name         Alice\n",
            "visits           2\n",
            "Name: 0, dtype: object\n",
            "- Alice visited most with 2 visits.\n",
            "- Dr. Lee handled the highest workload.\n"
          ]
        }
      ],
      "source": [
        "import pandas as pd\n",
        "\n",
        "# Customers dataset\n",
        "customers = pd.DataFrame({\n",
        "    'customerid': [1, 2, 3, 4, 5],\n",
        "    'name': ['Alice', 'Bob', 'Charlie', 'David', 'Eva'],\n",
        "    'city': ['New York', 'Los Angeles', 'New York', 'Chicago', 'Los Angeles']\n",
        "})\n",
        "\n",
        "# Transactions dataset\n",
        "transactions = pd.DataFrame({\n",
        "    'transactionid': [101, 102, 103, 104, 105, 106, 107],\n",
        "    'customerid': [1, 2, 1, 3, 4, 2, 5],\n",
        "    'amount': [250, 300, 150, 400, 200, 350, 500]\n",
        "})\n",
        "\n",
        "# Merge datasets on customerid\n",
        "merged = pd.merge(transactions, customers, on='customerid')\n",
        "\n",
        "# Calculate spend per customer\n",
        "customerspend = merged.groupby(['customerid', 'name'])['amount'].sum().reset_index()\n",
        "\n",
        "# Calculate spend per city\n",
        "cityspend = merged.groupby('city')['amount'].sum().reset_index()\n",
        "\n",
        "# Identify top spender\n",
        "topspender = customerspend.loc[customerspend['amount'].idxmax()]\n",
        "\n",
        "# Print results\n",
        "print(\"Merged\\n\", merged)\n",
        "print(\"Customer Spend\\n\", customerspend)\n",
        "print(\"City Spend\\n\", cityspend)\n",
        "print(\"Top Spender\\n\", topspender)\n",
        "\n",
        "\n",
        "# Patients dataset\n",
        "patients = pd.DataFrame({\n",
        "    'patientid': [1, 2, 3, 4, 5],\n",
        "    'name': ['Alice', 'Bob', 'Charlie', 'David', 'Eva'],\n",
        "    'age': [29, 34, 42, 50, 37]\n",
        "})\n",
        "\n",
        "# Appointments dataset\n",
        "appointments = pd.DataFrame({\n",
        "    'appointmentid': [101, 102, 103, 104, 105, 106, 107, 108],\n",
        "    'patientid': [1, 2, 1, 3, 4, 2, 5, 3],\n",
        "    'doctor': ['Dr. Smith', 'Dr. Lee', 'Dr. Smith', 'Dr. Lee', 'Dr. Brown', 'Dr. Lee', 'Dr. Smith', 'Dr. Brown']\n",
        "})\n",
        "\n",
        "# Merge appointments with patients on patientid\n",
        "merged = pd.merge(appointments, patients, on='patientid')\n",
        "\n",
        "# Calculate appointments per patient\n",
        "patientvisits = merged.groupby(['patientid', 'name']).size().reset_index(name='visits')\n",
        "\n",
        "# Calculate workload per doctor\n",
        "doctorworkload = merged.groupby('doctor').size().reset_index(name='appointments')\n",
        "\n",
        "# Identify top patient\n",
        "toppatient = patientvisits.loc[patientvisits['visits'].idxmax()]\n",
        "\n",
        "# Print results\n",
        "print(\"Patient Visits\\n\", patientvisits)\n",
        "print(\"Workload per Doctor\\n\", doctorworkload)\n",
        "print(\"Top Patient\\n\", toppatient)\n",
        "\n",
        "# Insights printout\n",
        "print(f\"- {toppatient['name']} visited most with {toppatient['visits']} visits.\")\n",
        "print(f\"- {doctorworkload.loc[doctorworkload['appointments'].idxmax(), 'doctor']} handled the highest workload.\")\n"
      ]
    }
  ]
}