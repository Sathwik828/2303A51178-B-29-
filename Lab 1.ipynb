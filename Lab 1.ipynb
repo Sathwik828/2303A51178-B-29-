{
  "nbformat": 4,
  "nbformat_minor": 0,
  "metadata": {
    "colab": {
      "provenance": [],
      "authorship_tag": "ABX9TyMa/8YQ1YnVNrYYbvNs22i8",
      "include_colab_link": true
    },
    "kernelspec": {
      "name": "python3",
      "display_name": "Python 3"
    },
    "language_info": {
      "name": "python"
    }
  },
  "cells": [
    {
      "cell_type": "markdown",
      "metadata": {
        "id": "view-in-github",
        "colab_type": "text"
      },
      "source": [
        "<a href=\"https://colab.research.google.com/github/Sathwik828/2303A51178-B-29-/blob/main/Lab%201.ipynb\" target=\"_parent\"><img src=\"https://colab.research.google.com/assets/colab-badge.svg\" alt=\"Open In Colab\"/></a>"
      ]
    },
    {
      "cell_type": "code",
      "execution_count": 1,
      "metadata": {
        "colab": {
          "base_uri": "https://localhost:8080/"
        },
        "id": "IgKT31MP64NA",
        "outputId": "a03f9b85-15fe-48e8-ab15-c7779bdd7480"
      },
      "outputs": [
        {
          "output_type": "stream",
          "name": "stdout",
          "text": [
            "Enter a number (≤ 10): 5\n",
            "\n",
            "Tracing factorial(5):\n",
            "\n",
            "factorial(5) called: need 5 * factorial(4)\n",
            "  factorial(4) called: need 4 * factorial(3)\n",
            "    factorial(3) called: need 3 * factorial(2)\n",
            "      factorial(2) called: need 2 * factorial(1)\n",
            "        factorial(1) = 1  <-- base case\n",
            "      Returning 2 from factorial(2)\n",
            "    Returning 6 from factorial(3)\n",
            "  Returning 24 from factorial(4)\n",
            "Returning 120 from factorial(5)\n",
            "\n",
            "Final Result: factorial(5) = 120\n"
          ]
        }
      ],
      "source": [
        "def factorial(n, depth=0):\n",
        "    indent = \"  \" * depth\n",
        "    if n == 0 or n == 1:\n",
        "        print(f\"{indent}factorial({n}) = 1  <-- base case\")\n",
        "        return 1\n",
        "    print(f\"{indent}factorial({n}) called: need {n} * factorial({n-1})\")\n",
        "    result = n * factorial(n - 1, depth + 1)  # recursive call\n",
        "    print(f\"{indent}Returning {result} from factorial({n})\")\n",
        "    return result\n",
        "if __name__ == \"__main__\":\n",
        "    num = int(input(\"Enter a number (≤ 10): \"))\n",
        "    if num > 10:\n",
        "        print(\"Please enter a number ≤ 10\")\n",
        "    else:\n",
        "        print(f\"\\nTracing factorial({num}):\\n\")\n",
        "        answer = factorial(num)\n",
        "        print(f\"\\nFinal Result: factorial({num}) = {answer}\")\n"
      ]
    },
    {
      "cell_type": "code",
      "source": [
        "import time\n",
        "import sys\n",
        "def factorial_recursive(n):\n",
        "    if n < 0:\n",
        "        raise ValueError(\"Factorial not defined for negative numbers\")\n",
        "    if n == 0 or n == 1:\n",
        "        return 1\n",
        "    return n * factorial_recursive(n - 1)\n",
        "def factorial_iterative(n):\n",
        "    if n < 0:\n",
        "        raise ValueError(\"Factorial not defined for negative numbers\")\n",
        "    result = 1\n",
        "    for i in range(2, n + 1):\n",
        "        result *= i\n",
        "    return result\n",
        "if __name__ == \"__main__\":\n",
        "    numbers = [5, 10, 15]\n",
        "    results = []\n",
        "    for num in numbers:\n",
        "        start = time.time()\n",
        "        rec_result = factorial_recursive(num)\n",
        "        rec_time = time.time() - start\n",
        "        rec_mem = sys.getsizeof(rec_result)\n",
        "        start = time.time()\n",
        "        iter_result = factorial_iterative(num)\n",
        "        iter_time = time.time() - start\n",
        "        iter_mem = sys.getsizeof(iter_result)\n",
        "        results.append([num, rec_result, rec_time, rec_mem, iter_result, iter_time, iter_mem])\n",
        "    print(f\"\\n{'n':<5}{'Recursion Result':<20}{'Rec Time (s)':<15}{'Rec Mem':<10}\"\n",
        "          f\"{'Iter Result':<20}{'Iter Time (s)':<15}{'Iter Mem':<10}\")\n",
        "    print(\"-\" * 95)\n",
        "    for r in results:\n",
        "        print(f\"{r[0]:<5}{r[1]:<20}{r[2]:<15.6f}{r[3]:<10}\"\n",
        "              f\"{r[4]:<20}{r[5]:<15.6f}{r[6]:<10}\")\n"
      ],
      "metadata": {
        "colab": {
          "base_uri": "https://localhost:8080/"
        },
        "id": "ywRR91CU7NWe",
        "outputId": "8748e7c6-44b2-40f1-9499-5f93b4e37502"
      },
      "execution_count": 2,
      "outputs": [
        {
          "output_type": "stream",
          "name": "stdout",
          "text": [
            "\n",
            "n    Recursion Result    Rec Time (s)   Rec Mem   Iter Result         Iter Time (s)  Iter Mem  \n",
            "-----------------------------------------------------------------------------------------------\n",
            "5    120                 0.000003       28        120                 0.000003       28        \n",
            "10   3628800             0.000002       28        3628800             0.000002       28        \n",
            "15   1307674368000       0.000002       32        1307674368000       0.000002       32        \n"
          ]
        }
      ]
    }
  ]
}