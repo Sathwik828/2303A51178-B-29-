{
  "nbformat": 4,
  "nbformat_minor": 0,
  "metadata": {
    "colab": {
      "provenance": [],
      "authorship_tag": "ABX9TyNmMwwzR03Lv0e2DnVcvrY/",
      "include_colab_link": true
    },
    "kernelspec": {
      "name": "python3",
      "display_name": "Python 3"
    },
    "language_info": {
      "name": "python"
    }
  },
  "cells": [
    {
      "cell_type": "markdown",
      "metadata": {
        "id": "view-in-github",
        "colab_type": "text"
      },
      "source": [
        "<a href=\"https://colab.research.google.com/github/Sathwik828/2303A51178-B-29-/blob/main/Lab%204.ipynb\" target=\"_parent\"><img src=\"https://colab.research.google.com/assets/colab-badge.svg\" alt=\"Open In Colab\"/></a>"
      ]
    },
    {
      "cell_type": "code",
      "execution_count": 8,
      "metadata": {
        "colab": {
          "base_uri": "https://localhost:8080/"
        },
        "id": "qHdSqI-hR-Sd",
        "outputId": "88773400-cb4b-4392-c654-9d1caa3def74"
      },
      "outputs": [
        {
          "output_type": "stream",
          "name": "stdout",
          "text": [
            "Filtered Feedback\n",
            "                CourseName StudentName  Rating                      Feedback\n",
            "1  Python for Data Science         Bob       4  Good but needs more examples\n",
            "\n",
            "Polluted Days PM2.5 >= 150 and NO2 >= 80\n",
            "         Date  PM2.5   NO2\n",
            "1  2023-01-02  155.0  82.0\n",
            "5  2023-01-06  200.0  90.0\n",
            "6  2023-01-07  200.0  85.0\n",
            "\n",
            "Merged Transactions and Customers\n",
            "   transactionid  customerid  amount     name         city\n",
            "0            101           1     250    Alice     New York\n",
            "1            102           2     400      Bob  Los Angeles\n",
            "2            103           1     300    Alice     New York\n",
            "3            104           3     150  Charlie      Chicago\n",
            "4            105           4     500    David      Houston\n",
            "5            106           2     200      Bob  Los Angeles\n",
            "\n",
            "Total Spend per Customer\n",
            "   customerid     name  amount\n",
            "0           1    Alice     550\n",
            "1           2      Bob     600\n",
            "2           3  Charlie     150\n",
            "3           4    David     500\n",
            "\n",
            "Total Spend per City\n",
            "          city  amount\n",
            "0      Chicago     150\n",
            "1      Houston     500\n",
            "2  Los Angeles     600\n",
            "3     New York     550\n",
            "\n",
            "Top Spender\n",
            "customerid      2\n",
            "name          Bob\n",
            "amount        600\n",
            "Name: 1, dtype: object\n"
          ]
        }
      ],
      "source": [
        "import pandas as pd\n",
        "\n",
        "# Load Course Feedback dataset\n",
        "feedback_df = pd.read_csv('/content/CourseFeedback.csv')\n",
        "\n",
        "# Filter feedback for \"Python for Data Science\" with rating 4\n",
        "filtered_feedback = feedback_df[(feedback_df.CourseName == 'Python for Data Science') & (feedback_df.Rating == 4)]\n",
        "\n",
        "print(\"Filtered Feedback\")\n",
        "print(filtered_feedback)\n",
        "\n",
        "\n",
        "# Load Air Pollution dataset\n",
        "air_df = pd.read_csv('/content/AirPollution.csv')\n",
        "\n",
        "# Handle missing values with forward fill\n",
        "air_df = air_df.ffill()\n",
        "\n",
        "# Filter polluted days with PM2.5 >= 150 and NO2 >= 80\n",
        "polluted_days = air_df[(air_df['PM2.5'] >= 150) & (air_df['NO2'] >= 80)]\n",
        "\n",
        "print(\"\\nPolluted Days PM2.5 >= 150 and NO2 >= 80\")\n",
        "print(polluted_days)\n",
        "\n",
        "\n",
        "# Load Customers dataset\n",
        "customers_df = pd.read_csv('/content/Customers.csv')\n",
        "\n",
        "# Load Transactions dataset\n",
        "transactions_df = pd.read_csv('/content/Transactions.csv')\n",
        "\n",
        "# Merge transactions and customers data on customerid\n",
        "merged_df = pd.merge(transactions_df, customers_df, on='customerid')\n",
        "\n",
        "# Calculate total spend per customer\n",
        "customer_spend = merged_df.groupby(['customerid', 'name'])['amount'].sum().reset_index()\n",
        "\n",
        "# Calculate total spend per city\n",
        "city_spend = merged_df.groupby('city')['amount'].sum().reset_index()\n",
        "\n",
        "# Identify top spender\n",
        "top_spender = customer_spend.loc[customer_spend['amount'].idxmax()]\n",
        "\n",
        "print(\"\\nMerged Transactions and Customers\")\n",
        "print(merged_df)\n",
        "print(\"\\nTotal Spend per Customer\")\n",
        "print(customer_spend)\n",
        "print(\"\\nTotal Spend per City\")\n",
        "print(city_spend)\n",
        "print(\"\\nTop Spender\")\n",
        "print(top_spender)"
      ]
    }
  ]
}